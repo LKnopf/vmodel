{
 "cells": [
  {
   "cell_type": "code",
   "execution_count": 1,
   "id": "109d7060-e74f-41b7-b4d9-70629d8a43ce",
   "metadata": {},
   "outputs": [],
   "source": [
    "import numpy as np\n",
    "import pickle\n",
    "import time \n",
    "import timeit\n",
    "import shutil \n",
    "import h5py\n",
    "import matplotlib\n",
    "import matplotlib.pyplot as plt\n",
    "import matplotlib.cm as cm \n",
    "from functools import partial\n",
    "import glob\n",
    "import os\n",
    "import pandas as pd\n",
    "import statistics as sta\n",
    "from scipy.stats import circstd, circmean\n",
    "from scipy.signal import savgol_filter\n",
    "import ruptures as rpt"
   ]
  },
  {
   "cell_type": "code",
   "execution_count": 27,
   "id": "075925eb-8498-4264-84ec-0f19c1014eda",
   "metadata": {},
   "outputs": [],
   "source": [
    "pol1_full = np.load(\"/home/lars/vmodel_output/Pred_attack=front_pol_astr_dphi.npy\")\n",
    "pol2_full = np.load(\"/home/lars/vmodel_output/NoPred_relax.npy\")"
   ]
  },
  {
   "cell_type": "code",
   "execution_count": 3,
   "id": "7d614df8-d205-4dec-97da-184e5c0161b5",
   "metadata": {},
   "outputs": [
    {
     "data": {
      "text/plain": [
       "(20, 20, 30, 2800)"
      ]
     },
     "execution_count": 3,
     "metadata": {},
     "output_type": "execute_result"
    }
   ],
   "source": []
  },
  {
   "cell_type": "code",
   "execution_count": 28,
   "id": "1064ba2d-9134-43e6-b9ce-21d5ee130bf7",
   "metadata": {},
   "outputs": [],
   "source": [
    "rel_time_hm = np.zeros((20,20,30))\n",
    "nruns = 30\n",
    "time = len(pol1_full[0,0,0,:])\n",
    "method=\"bs\"\n",
    "\n",
    "for ii in range(20):\n",
    "    for jj in range(20):\n",
    "    \n",
    "        pol2 = pol2_full[ii,jj,:,:]\n",
    "        pol = pol1_full[ii,jj,:,:]\n",
    "    ################################################################################\n",
    "        ################## THE IMPORTANT STUFF STARTS BELOW ############################\n",
    "        ################################################################################\n",
    "\n",
    "        ## ALL THE CODE BELOW - COMPUTES THE RELAXATION TIME ###\n",
    "        mean_pol0=np.transpose(pol2).mean(axis=1)\n",
    "        mean_pol1=[np.mean(mean_pol0)]*time\n",
    "        flat_list = [item for sublist in pol2 for item in sublist]\n",
    "        std_pol1=np.std(flat_list)\n",
    "    \n",
    "        for k in range(nruns):\n",
    "           # t_end_fnt=[index for index,value in enumerate(FNT[k]) if value == 1][-1]\n",
    "            points=pol[k]         \n",
    "            if method==\"dp\":\n",
    "                #Changepoint detection with dynamic programming search method\n",
    "                model = \"l1\"  \n",
    "                algo = rpt.Dynp(model=model, min_size=3, jump=5).fit(points)\n",
    "            elif method==\"bs\":\n",
    "                #Changepoint detection with the Binary Segmentation search method\n",
    "                model = \"l2\"  \n",
    "                algo = rpt.Binseg(model=model).fit(points)\n",
    "            my_bkps = algo.predict(n_bkps=10)\n",
    "          #  relax_t[k] = my_bkps[-2]-t_end_fnt  #### <----- WE DO NOT DO IT SINCE IT CAN INCREASE THE VARIATION IN THE VALUES, WE WANT TO KEEP IT CLEAN\n",
    "           \n",
    "           #### Lower Control Limits\n",
    "            yhat2 = savgol_filter(mean_pol1-3*std_pol1-points, 333, 2)\n",
    "            l2=np.where(yhat2 <0)[0]\n",
    "            if len(np.array(l2))>0:\n",
    "                i=1\n",
    "                while (l2[i]-l2[i-1]==1) and (i<len(np.array(l2))-1):\n",
    "                      i=i+1\n",
    "            else:\n",
    "                i=0\n",
    "\n",
    "            if i==len(np.array(l2))-1 or i==0:\n",
    "                rel_time_hm[ii,jj,k]=np.nan # time\n",
    "            else:\n",
    "                rel_time_hm[ii,jj,k]=l2[i]\n",
    "\n"
   ]
  },
  {
   "cell_type": "code",
   "execution_count": 13,
   "id": "6ea431c1-2dc4-4119-aa91-bd155b748bff",
   "metadata": {},
   "outputs": [
    {
     "name": "stderr",
     "output_type": "stream",
     "text": [
      "/tmp/ipykernel_7085/4214535950.py:6: RuntimeWarning: Mean of empty slice\n",
      "  reltime_mean = np.nanmean(rel_time_hm[:,:,:], axis= 2)\n"
     ]
    }
   ],
   "source": [
    "\n",
    "perc_75 = np.nanpercentile(rel_time_hm, 75)\n",
    "\n",
    "rel_filtered = np.copy(rel_time_hm)[rel_time_hm >= perc_75]\n",
    "rel_filtered[rel_filtered >= perc_75] = \"NaN\"\n",
    "\n",
    "reltime_mean = np.nanmean(rel_time_hm[:,:,:], axis= 2)\n",
    "\n"
   ]
  },
  {
   "cell_type": "code",
   "execution_count": 40,
   "id": "46ef1b39-5dfc-4f34-a732-75bd63336c69",
   "metadata": {},
   "outputs": [
    {
     "data": {
      "text/plain": [
       "1339.25"
      ]
     },
     "execution_count": 40,
     "metadata": {},
     "output_type": "execute_result"
    }
   ],
   "source": [
    "perc_75"
   ]
  },
  {
   "cell_type": "code",
   "execution_count": 29,
   "id": "4c9e44c5-6867-49ec-a3c5-0a16e2470ee9",
   "metadata": {},
   "outputs": [],
   "source": [
    "front_rel_hm = rel_time_hm"
   ]
  },
  {
   "cell_type": "code",
   "execution_count": 30,
   "id": "e091716c-a0f7-4324-bc5e-0f286e88cfba",
   "metadata": {},
   "outputs": [],
   "source": [
    "np.save(\"front_rel_hm\",side_rel_hm)"
   ]
  },
  {
   "cell_type": "code",
   "execution_count": 18,
   "id": "0aa46866-75e5-4867-aed1-0a41d6d80e3a",
   "metadata": {},
   "outputs": [
    {
     "data": {
      "text/plain": [
       "Text(16.125, 0.5, 'alignment strength $μ_{alg}$')"
      ]
     },
     "execution_count": 18,
     "metadata": {},
     "output_type": "execute_result"
    },
    {
     "data": {
      "image/png": "[encoded data removed]",
      "text/plain": [
       "<Figure size 720x565.2 with 2 Axes>"
      ]
     },
     "metadata": {},
     "output_type": "display_data"
    }
   ],
   "source": [
    "\n",
    "import seaborn as sns; sns.set_theme()\n",
    "import pandas as pd\n",
    "import matplotlib.pyplot as plt\n",
    "\n",
    "steps = 20\n",
    "\n",
    "paraChange1_val = np.linspace(0,3,steps)\n",
    "paraChange2_val = np.linspace(0,1,steps)\n",
    "\n",
    "\n",
    "df = pd.DataFrame(np.flip(reltime_mean, axis = 0))\n",
    "\n",
    "df.columns = np.round(paraChange2_val,2)\n",
    "df.index = np.round(paraChange1_val,2)[::-1]\n",
    "\n",
    "\n",
    "#plt.title(figname, fontsize = 12, pad = 20) # title with fontsize 20\n",
    "ax = sns.heatmap(df, cbar_kws={'label': \"relaxation time\"},\n",
    "                 cmap=\"Reds\")\n",
    "\n",
    "plt.tight_layout()\n",
    "plt.gcf().set_size_inches(10,7.85)\n",
    "plt.xlabel(\"noise\", fontsize = 15) # x-axis label with fontsize 15\n",
    "plt.ylabel(\"alignment strength \" + u'$μ_{alg}$', fontsize = 15) # y-axis label with fontsize 15"
   ]
  },
  {
   "cell_type": "code",
   "execution_count": 7,
   "id": "6a08a3c2-a336-4ae1-ae14-d3a7eb122c61",
   "metadata": {},
   "outputs": [
    {
     "name": "stdout",
     "output_type": "stream",
     "text": [
      "[0.         0.15789474 0.31578947 0.47368421 0.63157895 0.78947368\n",
      " 0.94736842 1.10526316 1.26315789 1.42105263 1.57894737 1.73684211\n",
      " 1.89473684 2.05263158 2.21052632 2.36842105 2.52631579 2.68421053\n",
      " 2.84210526 3.        ] [0.         0.05263158 0.10526316 0.15789474 0.21052632 0.26315789\n",
      " 0.31578947 0.36842105 0.42105263 0.47368421 0.52631579 0.57894737\n",
      " 0.63157895 0.68421053 0.73684211 0.78947368 0.84210526 0.89473684\n",
      " 0.94736842 1.        ]\n"
     ]
    }
   ],
   "source": [
    "print(paraChange1_val, paraChange2_val)"
   ]
  },
  {
   "cell_type": "code",
   "execution_count": 49,
   "id": "34364777-76c1-441a-a148-03557de02713",
   "metadata": {},
   "outputs": [
    {
     "data": {
      "text/plain": [
       "2169.0"
      ]
     },
     "execution_count": 49,
     "metadata": {},
     "output_type": "execute_result"
    }
   ],
   "source": [
    "front_rel_set.max()"
   ]
  },
  {
   "cell_type": "code",
   "execution_count": 50,
   "id": "da050fd4-21f4-4751-b8ad-0d6ebe6492f1",
   "metadata": {},
   "outputs": [],
   "source": [
    "front_rel_set = front_rel_hm[19,4,:]\n",
    "side_rel_set = side_rel_hm[19,4,:]\n",
    "back_rel_set = back_rel_hm[19,4,:]\n",
    "\n",
    "front_rel_set = front_rel_set[~np.isnan(front_rel_set)]\n",
    "front_rel_set = front_rel_set[front_rel_set<perc_75]\n",
    "\n",
    "back_rel_set = back_rel_set[~np.isnan(back_rel_set)]\n",
    "back_rel_set = back_rel_set[back_rel_set<perc_75]\n",
    "\n",
    "side_rel_set = side_rel_set[~np.isnan(side_rel_set)]\n",
    "side_rel_set = side_rel_set[side_rel_set<perc_75]"
   ]
  },
  {
   "cell_type": "code",
   "execution_count": 51,
   "id": "52d64c5b-3c89-4d37-b97f-315f857b97cf",
   "metadata": {},
   "outputs": [
    {
     "data": {
      "text/plain": [
       "Text(0, 0.5, 'relaxation time')"
      ]
     },
     "execution_count": 51,
     "metadata": {},
     "output_type": "execute_result"
    },
    {
     "data": {
      "image/png": "[encoded data removed]",
      "text/plain": [
       "<Figure size 432x288 with 1 Axes>"
      ]
     },
     "metadata": {},
     "output_type": "display_data"
    }
   ],
   "source": [
    "my_dict = {'front': front_rel_set, 'back': back_rel_set, \"side\": side_rel_set}\n",
    "\n",
    "fig, ax = plt.subplots()\n",
    "ax.boxplot(my_dict.values())\n",
    "ax.set_xticklabels(my_dict.keys())\n",
    "plt.ylabel(\"relaxation time\")"
   ]
  }
 ],
 "metadata": {
  "kernelspec": {
   "display_name": "Python 3 (ipykernel)",
   "language": "python",
   "name": "python3"
  },
  "language_info": {
   "codemirror_mode": {
    "name": "ipython",
    "version": 3
   },
   "file_extension": ".py",
   "mimetype": "text/x-python",
   "name": "python",
   "nbconvert_exporter": "python",
   "pygments_lexer": "ipython3",
   "version": "3.8.10"
  }
 },
 "nbformat": 4,
 "nbformat_minor": 5
}
