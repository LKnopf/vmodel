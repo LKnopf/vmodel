{
 "cells": [
  {
   "cell_type": "code",
   "execution_count": 106,
   "id": "b4bc2398-a4bf-44e4-9461-85c27884cd8d",
   "metadata": {},
   "outputs": [
    {
     "name": "stdout",
     "output_type": "stream",
     "text": [
      "progress: 0.24 %, time running: 1.54 s, est. finish: 10.6 min.\n",
      "progress: 0.49 %, time running: 3.02 s, est. finish: 10.19 min.\n",
      "progress: 0.74 %, time running: 4.69 s, est. finish: 10.46 min.\n",
      "progress: 0.99 %, time running: 6.22 s, est. finish: 10.35 min.\n",
      "progress: 1.24 %, time running: 7.67 s, est. finish: 10.17 min.\n"
     ]
    },
    {
     "ename": "KeyboardInterrupt",
     "evalue": "",
     "output_type": "error",
     "traceback": [
      "\u001b[0;31m---------------------------------------------------------------------------\u001b[0m",
      "\u001b[0;31mKeyboardInterrupt\u001b[0m                         Traceback (most recent call last)",
      "Input \u001b[0;32mIn [106]\u001b[0m, in \u001b[0;36m<cell line: 77>\u001b[0;34m()\u001b[0m\n\u001b[1;32m    127\u001b[0m predTime \u001b[38;5;241m=\u001b[39m \u001b[38;5;241m2\u001b[39m\n\u001b[1;32m    128\u001b[0m \u001b[38;5;28;01mfor\u001b[39;00m ii \u001b[38;5;129;01min\u001b[39;00m \u001b[38;5;28mrange\u001b[39m(\u001b[38;5;241m1300\u001b[39m,args[\u001b[38;5;124m\"\u001b[39m\u001b[38;5;124msteps\u001b[39m\u001b[38;5;124m\"\u001b[39m]\u001b[38;5;241m-\u001b[39mpredTime):\n\u001b[0;32m--> 129\u001b[0m     pol\u001b[38;5;241m.\u001b[39mappend(\u001b[43mcalc_order\u001b[49m\u001b[43m(\u001b[49m\u001b[43mvel_rep\u001b[49m\u001b[43m[\u001b[49m\u001b[43mii\u001b[49m\u001b[43m,\u001b[49m\u001b[43m:\u001b[49m\u001b[43mnprey\u001b[49m\u001b[43m,\u001b[49m\u001b[43m:\u001b[49m\u001b[43m]\u001b[49m\u001b[43m)\u001b[49m)\n\u001b[1;32m    130\u001b[0m     pos_calc \u001b[38;5;241m=\u001b[39m pos_rep[ii,:nprey,:]\n\u001b[1;32m    131\u001b[0m     scipy\u001b[38;5;241m.\u001b[39mspatial\u001b[38;5;241m.\u001b[39mdistance\u001b[38;5;241m.\u001b[39mcdist(pos_calc,pos_calc)\u001b[38;5;241m.\u001b[39msum() \u001b[38;5;241m/\u001b[39m (nprey \u001b[38;5;241m*\u001b[39m (nprey \u001b[38;5;241m-\u001b[39m \u001b[38;5;241m1\u001b[39m))\n",
      "Input \u001b[0;32mIn [106]\u001b[0m, in \u001b[0;36mcalc_order\u001b[0;34m(vel)\u001b[0m\n\u001b[1;32m     19\u001b[0m dot_prod \u001b[38;5;241m=\u001b[39m vel\u001b[38;5;241m.\u001b[39mdot(vel\u001b[38;5;241m.\u001b[39mT)  \u001b[38;5;66;03m# N x N\u001b[39;00m\n\u001b[1;32m     20\u001b[0m np\u001b[38;5;241m.\u001b[39mfill_diagonal(dot_prod, \u001b[38;5;241m0\u001b[39m)  \u001b[38;5;66;03m# i != j\u001b[39;00m\n\u001b[0;32m---> 21\u001b[0m \u001b[38;5;28;01mreturn\u001b[39;00m \u001b[43m(\u001b[49m\u001b[43mdot_prod\u001b[49m\u001b[43m[\u001b[49m\u001b[43mmask\u001b[49m\u001b[43m]\u001b[49m\u001b[43m \u001b[49m\u001b[38;5;241;43m/\u001b[39;49m\u001b[43m \u001b[49m\u001b[43mspeed_prod\u001b[49m\u001b[43m[\u001b[49m\u001b[43mmask\u001b[49m\u001b[43m]\u001b[49m\u001b[43m)\u001b[49m\u001b[38;5;241;43m.\u001b[39;49m\u001b[43msum\u001b[49m\u001b[43m(\u001b[49m\u001b[43m)\u001b[49m \u001b[38;5;241m/\u001b[39m (N \u001b[38;5;241m*\u001b[39m (N \u001b[38;5;241m-\u001b[39m \u001b[38;5;241m1\u001b[39m))\n",
      "File \u001b[0;32m~/.local/lib/python3.8/site-packages/numpy/core/_methods.py:48\u001b[0m, in \u001b[0;36m_sum\u001b[0;34m(a, axis, dtype, out, keepdims, initial, where)\u001b[0m\n\u001b[1;32m     46\u001b[0m \u001b[38;5;28;01mdef\u001b[39;00m \u001b[38;5;21m_sum\u001b[39m(a, axis\u001b[38;5;241m=\u001b[39m\u001b[38;5;28;01mNone\u001b[39;00m, dtype\u001b[38;5;241m=\u001b[39m\u001b[38;5;28;01mNone\u001b[39;00m, out\u001b[38;5;241m=\u001b[39m\u001b[38;5;28;01mNone\u001b[39;00m, keepdims\u001b[38;5;241m=\u001b[39m\u001b[38;5;28;01mFalse\u001b[39;00m,\n\u001b[1;32m     47\u001b[0m          initial\u001b[38;5;241m=\u001b[39m_NoValue, where\u001b[38;5;241m=\u001b[39m\u001b[38;5;28;01mTrue\u001b[39;00m):\n\u001b[0;32m---> 48\u001b[0m     \u001b[38;5;28;01mreturn\u001b[39;00m \u001b[43mumr_sum\u001b[49m\u001b[43m(\u001b[49m\u001b[43ma\u001b[49m\u001b[43m,\u001b[49m\u001b[43m \u001b[49m\u001b[43maxis\u001b[49m\u001b[43m,\u001b[49m\u001b[43m \u001b[49m\u001b[43mdtype\u001b[49m\u001b[43m,\u001b[49m\u001b[43m \u001b[49m\u001b[43mout\u001b[49m\u001b[43m,\u001b[49m\u001b[43m \u001b[49m\u001b[43mkeepdims\u001b[49m\u001b[43m,\u001b[49m\u001b[43m \u001b[49m\u001b[43minitial\u001b[49m\u001b[43m,\u001b[49m\u001b[43m \u001b[49m\u001b[43mwhere\u001b[49m\u001b[43m)\u001b[49m\n",
      "\u001b[0;31mKeyboardInterrupt\u001b[0m: "
     ]
    }
   ],
   "source": [
    "import vmodel\n",
    "import os\n",
    "import numpy as np\n",
    "import h5py\n",
    "import datetime\n",
    "import scipy.spatial\n",
    "\n",
    "def calc_order(vel: np.ndarray) -> float:\n",
    "    \"\"\"Compute order parameter from velocity matrix\n",
    "    Args:\n",
    "        vel: velocity matrix (N x D)\n",
    "    Returns:\n",
    "        order: velocity correlation\n",
    "    \"\"\"\n",
    "    N, _ = vel.shape\n",
    "    speed = np.linalg.norm(vel, axis=1, keepdims=True)  # N x 1\n",
    "    speed_prod = speed.dot(speed.T)  # N x N\n",
    "    mask = (speed_prod != 0)  # avoid division by zero!\n",
    "    dot_prod = vel.dot(vel.T)  # N x N\n",
    "    np.fill_diagonal(dot_prod, 0)  # i != j\n",
    "    return (dot_prod[mask] / speed_prod[mask]).sum() / (N * (N - 1))\n",
    "\n",
    "def calc_IID(pos: np.ndarray):\n",
    "    \"\"\"Compute IID\"\"\"\n",
    "    N, _ = pos.shape\n",
    "    dist = 0\n",
    "    for i in range(N):\n",
    "        for j in range(N):\n",
    "            dist += np.linalg.norm(pos[i]-pos[j])\n",
    "    \n",
    "    return dist / (N * (N - 1))\n",
    "\n",
    "out_str = \"/extra2/knopf/vmodel_output/noPred/\"\n",
    "saveLoc = \"/extra2/knopf/vmodel_output/\"\n",
    "saveName = \"noPred_\"\n",
    "\n",
    "\n",
    "args = {\n",
    "'nprey': 100,\n",
    "'npred': 1,\n",
    "'frange': 10,\n",
    "'fstr': 0.0,\n",
    "'visPred': 300.0,\n",
    "'visPrey': 330,\n",
    "'astr': 3.0,\n",
    "'dphi': 0.2,\n",
    "'repPrey': 3,\n",
    "'repRadPrey': 1.5,\n",
    "'repPred': 1,\n",
    "'repRadPred': 20,\n",
    "'attPrey': 3,\n",
    "'attRadPrey': 1.5,\n",
    "'repCol': 10000000,\n",
    "'hstr': 1,\n",
    "'steps': 1500,\n",
    "    }\n",
    "\n",
    "\n",
    "\n",
    "paraChange1_name = \"astr\"\n",
    "paraChange2_name = \"dphi\"\n",
    "steps = 20\n",
    "reps = 30\n",
    "\n",
    "total = steps*steps*reps\n",
    "\n",
    "paraChange1_val = np.linspace(0,1.5,steps)\n",
    "paraChange2_val = np.linspace(0,1,steps)\n",
    "\n",
    "pol_scan = np.zeros((steps, steps))\n",
    "IID_scan = np.zeros((steps, steps))\n",
    "\n",
    "time_now = datetime.datetime.now()\n",
    "time_elapsed = 0\n",
    "\n",
    "\n",
    "for i in range(len(paraChange1_val)):\n",
    "    \n",
    "    for j in range(len(paraChange2_val)):\n",
    "\n",
    "        #np.savetxt(str(saveLoc)+\"\"+str(saveName)+\"pol_\"+str(paraChange1_name)+\"_\"+str(paraChange2_name)+\".csv\", pol_scan, delimiter=\",\")\n",
    "  \n",
    "        pol_reps = []\n",
    "        IID_reps = []\n",
    "        \n",
    "        args[paraChange1_name] = paraChange1_val[i]\n",
    "        args[paraChange2_name] = paraChange2_val[j]\n",
    "\n",
    "        npred = args[\"npred\"]\n",
    "        nprey = args[\"nprey\"]\n",
    "\n",
    "        args_str = '_'.join(f'{k}_{v}' for k, v in args.items())\n",
    "\n",
    "        file_h5 = f'{out_str}_{args_str}.states.nc'\n",
    "        #file_h5 = f'/home/lars/vmodel_output/_nprey_100_npred_1_frange_10_fstr_0.0_visPred_90.0_visPrey_330_astr_3_dphi_0.2_repPrey_3_repRadPrey_1_repPred_1_repRadPred_20_attPrey_3_attRadPrey_1_repCol_10000000_hstr_1_steps_50000.states.nc'\n",
    "\n",
    "        #print(file_h5)\n",
    "        \n",
    "\n",
    "\n",
    "\n",
    "        with h5py.File(file_h5) as fh5:\n",
    "            vel = np.moveaxis(np.array(fh5['/velocity']), [3,2], [1,3])[:,:,:,:]\n",
    "            pos = np.moveaxis(np.array(fh5['/position']), [3,2], [1,3])[:,:,:,:]\n",
    "        \n",
    "\n",
    "        for rep in range(reps):\n",
    "            \n",
    "\n",
    "            \n",
    "            \n",
    "            \n",
    "            \n",
    "            vel_rep = vel[rep,:,:,:]\n",
    "            pos_rep = pos[rep,:,:,:]\n",
    "\n",
    "\n",
    "            #print(np.shape(vel_rep))\n",
    "\n",
    "\n",
    "            pol = []\n",
    "            IID = []\n",
    "            predTime = 2\n",
    "            for ii in range(1300,args[\"steps\"]-predTime):\n",
    "                pol.append(calc_order(vel_rep[ii,:nprey,:]))\n",
    "                pos_calc = pos_rep[ii,:nprey,:]\n",
    "                scipy.spatial.distance.cdist(pos_calc,pos_calc).sum() / (nprey * (nprey - 1))\n",
    "                \n",
    "                \n",
    "                \n",
    "                \n",
    "            pol_reps.append(np.mean(pol))\n",
    "            IID_reps.append(np.mean(IID))\n",
    "            \n",
    "            \n",
    "        time_last = time_now\n",
    "            \n",
    "        time_now = datetime.datetime.now()\n",
    "            \n",
    "        time_diff = np.round((time_now-time_last).total_seconds(),2)\n",
    "            \n",
    "        time_elapsed += time_diff\n",
    "\n",
    "        progress = rep+reps*(j+i*steps)\n",
    "            \n",
    "        time_finish = (time_elapsed/progress) * (total - progress)\n",
    "            \n",
    "        print(\"progress: \"+str(np.round(100*progress/total,2))+\" %, time running: \"+str(np.round(time_elapsed,2))+\" s, est. finish: \"+str(np.round(time_finish/60,2))+\" min.\")\n",
    "            \n",
    "            \n",
    "        pol_scan[i,j] = np.mean(pol_reps)\n",
    "        IID_scan[i,j] = np.mean(IID_reps)\n",
    "            \n",
    "        \n",
    "np.savetxt(str(saveLoc)+\"\"+str(saveName)+\"pol_\"+str(paraChange1_name)+\"_\"+str(paraChange2_name)+\".csv\", pol_scan, delimiter=\",\")\n",
    "np.savetxt(str(saveLoc)+\"\"+str(saveName)+\"IID_\"+str(paraChange1_name)+\"_\"+str(paraChange2_name)+\".csv\", IID_scan, delimiter=\",\")\n",
    " \n"
   ]
  },
  {
   "cell_type": "code",
   "execution_count": 53,
   "id": "0914fd8e-fa6e-493a-acd6-17ea7b9351a9",
   "metadata": {},
   "outputs": [
    {
     "data": {
      "text/plain": [
       "6.753788556295443"
      ]
     },
     "execution_count": 53,
     "metadata": {},
     "output_type": "execute_result"
    }
   ],
   "source": [
    "data = pos_rep[ii,:nprey,:]\n",
    "data[0]"
   ]
  },
  {
   "cell_type": "code",
   "execution_count": 55,
   "id": "3c3feb44-6bf5-4434-a911-0a3b55974ac3",
   "metadata": {},
   "outputs": [],
   "source": [
    "\n",
    "dist = "
   ]
  },
  {
   "cell_type": "code",
   "execution_count": 94,
   "id": "507f809e-0bd0-4bd6-87ff-c77d54d99cf5",
   "metadata": {},
   "outputs": [
    {
     "data": {
      "text/plain": [
       "16.666666666666668"
      ]
     },
     "execution_count": 94,
     "metadata": {},
     "output_type": "execute_result"
    }
   ],
   "source": [
    "1000/60"
   ]
  }
 ],
 "metadata": {
  "kernelspec": {
   "display_name": "Python 3 (ipykernel)",
   "language": "python",
   "name": "python3"
  },
  "language_info": {
   "codemirror_mode": {
    "name": "ipython",
    "version": 3
   },
   "file_extension": ".py",
   "mimetype": "text/x-python",
   "name": "python",
   "nbconvert_exporter": "python",
   "pygments_lexer": "ipython3",
   "version": "3.8.10"
  }
 },
 "nbformat": 4,
 "nbformat_minor": 5
}
