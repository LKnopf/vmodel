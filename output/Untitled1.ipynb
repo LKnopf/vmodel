{
 "cells": [
  {
   "cell_type": "code",
   "execution_count": 25,
   "id": "449482b1-cf44-4851-b646-e2bcae92f254",
   "metadata": {},
   "outputs": [],
   "source": [
    "import sys\n",
    "import numpy as np\n",
    "import matplotlib\n",
    "import matplotlib.pyplot as plt\n",
    "from matplotlib import animation\n",
    "import h5py\n",
    "import os\n",
    "import glob\n",
    "sys.path.insert(1, '/home/lars/predatorprey-1/predprey-16022022/')\n",
    "from animateSwarm import AnimateTools as at\n",
    "from TsTools import general as gen\n",
    "from pathlib import Path\n",
    "import pickle\n",
    "from functools import partial"
   ]
  },
  {
   "cell_type": "code",
   "execution_count": 26,
   "id": "380ba85b-466b-46b8-b3f3-8abf9e05b32e",
   "metadata": {},
   "outputs": [
    {
     "name": "stdout",
     "output_type": "stream",
     "text": [
      "agent\n",
      "agent2\n",
      "position\n",
      "run\n",
      "space\n",
      "time\n",
      "velocity\n",
      "visibility\n"
     ]
    }
   ],
   "source": [
    "cwd = os.getcwd()\n",
    "\n",
    "file = glob.glob(\"/home/lars/vmodel/output/state.nc\")\n",
    "\n",
    "m = h5py.File(file[0], \"r\")\n",
    "\n",
    "for key in m.keys():\n",
    "    print(key)"
   ]
  },
  {
   "cell_type": "code",
   "execution_count": 50,
   "id": "e14f0b32-4124-42f8-8730-32d4f4ef91e1",
   "metadata": {},
   "outputs": [
    {
     "data": {
      "text/plain": [
       "<HDF5 dataset \"position\": shape (1, 20, 2, 1000), type \"<f8\">"
      ]
     },
     "execution_count": 50,
     "metadata": {},
     "output_type": "execute_result"
    }
   ],
   "source": [
    "agent=m[\"position\"]\n",
    "agent"
   ]
  },
  {
   "cell_type": "code",
   "execution_count": 39,
   "id": "d9529cef-01ad-4cf4-8632-eadc4cc3d78d",
   "metadata": {},
   "outputs": [
    {
     "data": {
      "text/plain": [
       "<HDF5 dataset \"agent\": shape (20,), type \"<i8\">"
      ]
     },
     "execution_count": 39,
     "metadata": {},
     "output_type": "execute_result"
    }
   ],
   "source": []
  },
  {
   "cell_type": "code",
   "execution_count": 31,
   "id": "853b209a-039e-45e5-98bc-5abd12219238",
   "metadata": {},
   "outputs": [],
   "source": [
    "file_h5 = \"/home/lars/vmodel/output/state.nc\"\n",
    "\n",
    "with h5py.File(file_h5) as fh5:\n",
    "\n",
    "\n",
    "    pos = (np.moveaxis(np.array(fh5['/position']), [3,2], [1,3])[0,:,:,:])\n",
    "    vel = at.datCollector(np.moveaxis(np.array(fh5['/velocity']), [3,2], [1,3]))\n",
    "    #agent = at.datCollector( np.array(fh5['/agent']) )\n",
    "\n",
    "#<HDF5 dataset \"part\": shape (1, 1200, 100, 7), type \"<f8\">"
   ]
  },
  {
   "cell_type": "code",
   "execution_count": 33,
   "id": "4550b61c-16c3-4f91-9124-828ff6c84a74",
   "metadata": {},
   "outputs": [],
   "source": [
    "posDat = at.datCollector( pos )\n"
   ]
  },
  {
   "cell_type": "code",
   "execution_count": 34,
   "id": "52346cb8-6419-44e8-ae76-7b07c56b885d",
   "metadata": {},
   "outputs": [
    {
     "data": {
      "text/plain": [
       "(1000, 20, 2)"
      ]
     },
     "execution_count": 34,
     "metadata": {},
     "output_type": "execute_result"
    }
   ],
   "source": [
    "posDat.dat.shape"
   ]
  },
  {
   "cell_type": "code",
   "execution_count": 32,
   "id": "bdf49441-4ca3-4fbc-8763-b11371c8d168",
   "metadata": {},
   "outputs": [
    {
     "data": {
      "text/plain": [
       "(1000, 20, 2)"
      ]
     },
     "execution_count": 32,
     "metadata": {},
     "output_type": "execute_result"
    }
   ],
   "source": [
    "np.shape(pos)"
   ]
  },
  {
   "cell_type": "code",
   "execution_count": 18,
   "id": "bad4f3d9-b13e-4d9b-bc9a-4a0da5005287",
   "metadata": {},
   "outputs": [
    {
     "data": {
      "text/plain": [
       "(1, 1000, 20, 2)"
      ]
     },
     "execution_count": 18,
     "metadata": {},
     "output_type": "execute_result"
    }
   ],
   "source": [
    "np.moveaxis(pos, [3,2], [1,3])"
   ]
  }
 ],
 "metadata": {
  "kernelspec": {
   "display_name": "Python 3 (ipykernel)",
   "language": "python",
   "name": "python3"
  },
  "language_info": {
   "codemirror_mode": {
    "name": "ipython",
    "version": 3
   },
   "file_extension": ".py",
   "mimetype": "text/x-python",
   "name": "python",
   "nbconvert_exporter": "python",
   "pygments_lexer": "ipython3",
   "version": "3.8.10"
  }
 },
 "nbformat": 4,
 "nbformat_minor": 5
}
