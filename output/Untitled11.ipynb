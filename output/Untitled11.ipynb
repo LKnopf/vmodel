{
 "cells": [
  {
   "cell_type": "code",
   "execution_count": 1,
   "id": "0feac44a-cb5b-4ccb-abeb-9145ab6664bf",
   "metadata": {},
   "outputs": [],
   "source": [
    "import numpy as np"
   ]
  },
  {
   "cell_type": "code",
   "execution_count": 3,
   "id": "c2e04099-63ce-4ccf-ae1b-f11988372db3",
   "metadata": {},
   "outputs": [],
   "source": [
    "a = np.array(((0,1),(2,0),(4,4), (3,2)))"
   ]
  },
  {
   "cell_type": "code",
   "execution_count": 15,
   "id": "f4ace330-c949-4c77-b666-d78567960cc0",
   "metadata": {},
   "outputs": [
    {
     "data": {
      "text/plain": [
       "array([[ 2, -1],\n",
       "       [ 2,  4],\n",
       "       [-1, -2]])"
      ]
     },
     "execution_count": 15,
     "metadata": {},
     "output_type": "execute_result"
    }
   ],
   "source": [
    "a[1:]-a[:-1]"
   ]
  },
  {
   "cell_type": "code",
   "execution_count": 14,
   "id": "1814a84f-f0b6-4751-8d3f-c510193bf029",
   "metadata": {},
   "outputs": [
    {
     "data": {
      "text/plain": [
       "array([[0, 1],\n",
       "       [2, 0],\n",
       "       [4, 4]])"
      ]
     },
     "execution_count": 14,
     "metadata": {},
     "output_type": "execute_result"
    }
   ],
   "source": [
    "a[:-1]"
   ]
  }
 ],
 "metadata": {
  "kernelspec": {
   "display_name": "Python 3 (ipykernel)",
   "language": "python",
   "name": "python3"
  },
  "language_info": {
   "codemirror_mode": {
    "name": "ipython",
    "version": 3
   },
   "file_extension": ".py",
   "mimetype": "text/x-python",
   "name": "python",
   "nbconvert_exporter": "python",
   "pygments_lexer": "ipython3",
   "version": "3.8.10"
  }
 },
 "nbformat": 4,
 "nbformat_minor": 5
}
