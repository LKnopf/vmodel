{
 "cells": [
  {
   "cell_type": "code",
   "execution_count": 2,
   "id": "489a866b-a75e-4936-9560-78cded6589fe",
   "metadata": {},
   "outputs": [],
   "source": [
    "import vmodel\n",
    "import os\n",
    "import numpy as np\n",
    "import h5py\n",
    "import datetime\n",
    "import scipy.spatial\n",
    "import math"
   ]
  },
  {
   "cell_type": "code",
   "execution_count": 14,
   "id": "5b12e85c-68b2-4ee1-b93e-1e8164dae556",
   "metadata": {},
   "outputs": [],
   "source": [
    "file_h5 = '/home/lars/vmodel_output/5_normal__nprey_100_npred_1_frange_10_fstr_0.0_visPred_120_visPrey_330.0_astr_1.67_dphi_0.22_repPrey_3_repRadPrey_1.5_repPred_21_repRadPred_20_attPrey_3_attRadPrey_1.5_repCol_10000000_hstr_1_steps_200_fangle_30.0_pangle_0.states.nc'\n",
    "\n",
    "        \n",
    "\n",
    "\n",
    "\n",
    "with h5py.File(file_h5) as fh5:\n",
    "    vel = np.moveaxis(np.array(fh5['/velocity']), [3,2], [1,3])[:,:,:,:]\n",
    "    pos = np.moveaxis(np.array(fh5['/position']), [3,2], [1,3])[:,:,:,:]\n",
    "    \n",
    "    \n",
    "reps = 4\n",
    "nprey = 100\n",
    "j = 0\n",
    "mil_scan = np.zeros((8, 40, 200))"
   ]
  },
  {
   "cell_type": "code",
   "execution_count": 15,
   "id": "0c1a4631-25e1-4fe7-a836-f12c94f6dfe0",
   "metadata": {},
   "outputs": [],
   "source": [
    "for rep in range(reps):\n",
    "            \n",
    "\n",
    "\n",
    "    vel_rep = vel[rep,:,:nprey,:]\n",
    "    pos_rep = pos[rep,:,:nprey,:]\n",
    "\n",
    "\n",
    "    time, N, dim = np.shape(pos_rep)\n",
    "                        #time -= 10000\n",
    "    com_pos = np.zeros((time,2))\n",
    "    angle_time = []\n",
    "    angle_time_full = np.zeros((time, N, 2))\n",
    "\n",
    "    for ii in range(time):\n",
    "        com_pos[ii] = np.mean(pos_rep[ii,:,0]),np.mean(pos_rep[ii,:,1])\n",
    "        dir_com = com_pos[ii] - pos_rep[ii,:,:]\n",
    "\n",
    "\n",
    "        angle = 0\n",
    "        for jj in range(nprey):\n",
    "            a = ((dir_com[jj,0],dir_com[jj,1]))\n",
    "            b = ((vel_rep[ii,jj,0],vel_rep[ii,jj,1]))\n",
    "\n",
    "            pol = (np.cross((a/np.linalg.norm(a)),b))\n",
    "\n",
    "            angle += pol\n",
    "\n",
    "        mil_scan[j,rep,ii] = angle/nprey\n",
    "    np.save(\"_mill_histrun_test\", mil_scan)"
   ]
  },
  {
   "cell_type": "code",
   "execution_count": 18,
   "id": "14dcab99-f035-4ea0-b80f-3ba2fa537f66",
   "metadata": {},
   "outputs": [
    {
     "data": {
      "text/plain": [
       "array([ 30.,  67., 103., 140., 176., 213., 249., 286., 322., 359.])"
      ]
     },
     "execution_count": 18,
     "metadata": {},
     "output_type": "execute_result"
    }
   ],
   "source": [
    "np.round(np.linspace(30,359,10,3))"
   ]
  },
  {
   "cell_type": "code",
   "execution_count": 19,
   "id": "8c66856e-72fa-4343-867b-04c4ab7e4f74",
   "metadata": {},
   "outputs": [
    {
     "data": {
      "text/plain": [
       "array([  0.,  40.,  80., 120., 160., 200., 240., 280., 320., 360.])"
      ]
     },
     "execution_count": 19,
     "metadata": {},
     "output_type": "execute_result"
    }
   ],
   "source": [
    "np.linspace(0,360,10)"
   ]
  }
 ],
 "metadata": {
  "kernelspec": {
   "display_name": "Python 3 (ipykernel)",
   "language": "python",
   "name": "python3"
  },
  "language_info": {
   "codemirror_mode": {
    "name": "ipython",
    "version": 3
   },
   "file_extension": ".py",
   "mimetype": "text/x-python",
   "name": "python",
   "nbconvert_exporter": "python",
   "pygments_lexer": "ipython3",
   "version": "3.8.10"
  }
 },
 "nbformat": 4,
 "nbformat_minor": 5
}
