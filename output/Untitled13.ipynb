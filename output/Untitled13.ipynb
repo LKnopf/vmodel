{
 "cells": [
  {
   "cell_type": "code",
   "execution_count": 4,
   "id": "01ef1260-4b0b-47d3-a01a-9c68df3d967b",
   "metadata": {},
   "outputs": [],
   "source": [
    "import matplotlib.pyplot as plt\n",
    "import numpy as np"
   ]
  },
  {
   "cell_type": "code",
   "execution_count": 23,
   "id": "8e1dbdb0-cee7-45fd-93a3-9d6640a62cfe",
   "metadata": {},
   "outputs": [],
   "source": [
    "b = ((0,-6))\n",
    "a = ((1,0))"
   ]
  },
  {
   "cell_type": "code",
   "execution_count": 24,
   "id": "11558e80-b360-4fa3-9ba4-7e6b48fb360f",
   "metadata": {},
   "outputs": [
    {
     "data": {
      "text/plain": [
       "array(-6)"
      ]
     },
     "execution_count": 24,
     "metadata": {},
     "output_type": "execute_result"
    }
   ],
   "source": [
    "(np.cross(a,b))"
   ]
  },
  {
   "cell_type": "code",
   "execution_count": 26,
   "id": "212a27a9-fb9c-4112-ba55-93ce8bfadfe5",
   "metadata": {},
   "outputs": [
    {
     "data": {
      "text/plain": [
       "0.8939966636005579"
      ]
     },
     "execution_count": 26,
     "metadata": {},
     "output_type": "execute_result"
    }
   ],
   "source": [
    "np.sin(90)"
   ]
  }
 ],
 "metadata": {
  "kernelspec": {
   "display_name": "Python 3 (ipykernel)",
   "language": "python",
   "name": "python3"
  },
  "language_info": {
   "codemirror_mode": {
    "name": "ipython",
    "version": 3
   },
   "file_extension": ".py",
   "mimetype": "text/x-python",
   "name": "python",
   "nbconvert_exporter": "python",
   "pygments_lexer": "ipython3",
   "version": "3.8.10"
  }
 },
 "nbformat": 4,
 "nbformat_minor": 5
}
