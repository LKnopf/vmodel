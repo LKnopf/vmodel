{
 "cells": [
  {
   "cell_type": "code",
   "execution_count": 2,
   "id": "dcf31b32-4af7-4d5d-ac89-37cb9b119610",
   "metadata": {},
   "outputs": [],
   "source": [
    "import sys\n",
    "import numpy as np\n",
    "import matplotlib\n",
    "import matplotlib.pyplot as plt\n",
    "from matplotlib import animation\n",
    "import h5py\n",
    "import glob\n",
    "sys.path.insert(1, '/home/lars/predatorprey-1/predprey-staticnw/')\n",
    "#sys.path.insert(1, '/home/lars/predatorprey-1/predprey-16022022/')\n",
    "from animateSwarm import AnimateTools as at\n",
    "#from TsTools import general as gen\n",
    "from pathlib import Path\n",
    "import pickle\n",
    "from functools import partial\n",
    "from vmodel import geometry as vgeom\n",
    "from vmodel import plot\n",
    "from vmodel.util import color as vcolor\n",
    "import math"
   ]
  },
  {
   "cell_type": "code",
   "execution_count": 19,
   "id": "c56cab6d-161f-484f-bf0a-72f18e41c1d6",
   "metadata": {},
   "outputs": [],
   "source": [
    "file_h5 = \"/home/lars/vmodel_output/mill_nprey_100_npred_1_frange_10_fstr_0.0_visPred_120_visPrey_280.0_astr_2.0_dphi_0.2_repPrey_3_repRadPrey_1.5_repPred_21_repRadPred_20_attPrey_3_attRadPrey_1.5_repCol_10000000_hstr_1_steps_4000_fangle_30.0_pangle_0.states.nc\"\n",
    "\n",
    "\n",
    "\n",
    "with h5py.File(file_h5) as fh5:\n",
    "\n",
    "\n",
    "    pos = np.moveaxis(np.array(fh5['/position']), [3,2], [1,3])[0,1:,:,:]\n",
    "    vel = np.moveaxis(np.array(fh5['/velocity']), [3,2], [1,3])[0,1:,:,:]\n",
    "    vis = np.array(fh5['/visibility'])[0,:100,:100,:]\n",
    "    \n",
    "    "
   ]
  },
  {
   "cell_type": "code",
   "execution_count": 20,
   "id": "1922988f-867a-4cde-ba80-2fb868f3f889",
   "metadata": {},
   "outputs": [
    {
     "data": {
      "text/plain": [
       "(100, 100, 2800)"
      ]
     },
     "execution_count": 20,
     "metadata": {},
     "output_type": "execute_result"
    }
   ],
   "source": [
    "np.shape(vis)"
   ]
  },
  {
   "cell_type": "code",
   "execution_count": 10,
   "id": "479d0ae6-57d5-433a-a4db-27bed8389dc8",
   "metadata": {},
   "outputs": [
    {
     "data": {
      "text/plain": [
       "(101, 101)"
      ]
     },
     "execution_count": 10,
     "metadata": {},
     "output_type": "execute_result"
    }
   ],
   "source": [
    "np.shape(vis[:,:,9])"
   ]
  },
  {
   "cell_type": "code",
   "execution_count": 15,
   "id": "40c67e2e-c517-47d4-a115-5b13760226c7",
   "metadata": {},
   "outputs": [
    {
     "data": {
      "text/plain": [
       "array([0, 0, 0, 0, 0, 1, 0, 0, 0, 0, 1, 0, 0, 0, 0, 0, 0, 0, 0, 0, 0, 0,\n",
       "       0, 0, 0, 0, 0, 1, 0, 0, 1, 0, 0, 1, 0, 0, 0, 0, 0, 0, 0, 0, 0, 0,\n",
       "       0, 0, 0, 0, 0, 0, 0, 0, 0, 0, 0, 0, 0, 0, 0, 0, 0, 0, 0, 0, 0, 0,\n",
       "       0, 0, 0, 0, 0, 0, 0, 0, 0, 0, 0, 0, 0, 0, 0, 0, 1, 0, 0, 0, 0, 0,\n",
       "       0, 0, 0, 0, 0, 0, 0, 0, 0, 0, 0, 0, 1], dtype=int8)"
      ]
     },
     "execution_count": 15,
     "metadata": {},
     "output_type": "execute_result"
    }
   ],
   "source": [
    "vis[50, :, 7]"
   ]
  },
  {
   "cell_type": "code",
   "execution_count": 21,
   "id": "c43f94c2-a7fa-4910-9f2d-cf771f13b506",
   "metadata": {},
   "outputs": [
    {
     "data": {
      "text/plain": [
       "2"
      ]
     },
     "execution_count": 21,
     "metadata": {},
     "output_type": "execute_result"
    }
   ],
   "source": [
    "np.sum(vis[:,10, 1])"
   ]
  },
  {
   "cell_type": "code",
   "execution_count": 23,
   "id": "5a00b309-d474-4519-91cb-112aadb77a4f",
   "metadata": {},
   "outputs": [
    {
     "data": {
      "text/plain": [
       "array([0.        , 0.33333333, 0.66666667, 1.        , 1.33333333,\n",
       "       1.66666667, 2.        , 2.33333333, 2.66666667, 3.        ])"
      ]
     },
     "execution_count": 23,
     "metadata": {},
     "output_type": "execute_result"
    }
   ],
   "source": [
    "steps = 10\n",
    "reps = 20\n",
    "\n",
    "\n",
    "np.linspace(0,3,10)"
   ]
  }
 ],
 "metadata": {
  "kernelspec": {
   "display_name": "Python 3 (ipykernel)",
   "language": "python",
   "name": "python3"
  },
  "language_info": {
   "codemirror_mode": {
    "name": "ipython",
    "version": 3
   },
   "file_extension": ".py",
   "mimetype": "text/x-python",
   "name": "python",
   "nbconvert_exporter": "python",
   "pygments_lexer": "ipython3",
   "version": "3.8.10"
  }
 },
 "nbformat": 4,
 "nbformat_minor": 5
}
