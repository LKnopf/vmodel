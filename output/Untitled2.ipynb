{
 "cells": [
  {
   "cell_type": "code",
   "execution_count": 11,
   "id": "0c0412df-4b3d-4b7e-9f7e-f9234a891eed",
   "metadata": {},
   "outputs": [
    {
     "data": {
      "image/png": "[encoded data removed]",
      "text/plain": [
       "<Figure size 432x288 with 1 Axes>"
      ]
     },
     "metadata": {
      "needs_background": "light"
     },
     "output_type": "display_data"
    }
   ],
   "source": [
    "import sys\n",
    "import numpy as np\n",
    "import matplotlib\n",
    "import matplotlib.pyplot as plt\n",
    "from matplotlib import animation\n",
    "import h5py\n",
    "import glob\n",
    "sys.path.insert(1, '/home/lars/predatorprey-1/predprey-16022022/')\n",
    "from animateSwarm import AnimateTools as at\n",
    "from TsTools import general as gen\n",
    "from pathlib import Path\n",
    "import pickle\n",
    "from functools import partial\n",
    "\n",
    "\n",
    "def pavas2colors(pavas):\n",
    "    if np.std(pavas) > 1e-5:\n",
    "        colors = np.squeeze(pavas)\n",
    "        colors -= colors.min()\n",
    "        colors /= colors.max()\n",
    "    else:\n",
    "        colors = 'k'\n",
    "    return colors\n",
    "\n",
    "\n",
    "\n",
    "\n",
    "#file_h5 = str(file)+\".h5\"\n",
    "#file_dat = str(file)+\".dat\"\n",
    "\n",
    "\n",
    "\n",
    "mode = 'gif' # 'normal', 'pictures', 'movie', 'gif'\n",
    "fps = 15\n",
    "dpi = 200\n",
    "NsamShow = 4\n",
    "sizePrey = 1/8\n",
    "sizePred = sizePrey * 2\n",
    "cmap = plt.get_cmap('coolwarm') # alternatives 'bwr', 'Reds'\n",
    "\n",
    "\n",
    "file_h5 = \"/home/lars/vmodel/output/state.nc\"\n",
    "name = \"state\"\n",
    "\n",
    "\n",
    "with h5py.File(file_h5) as fh5:\n",
    "\n",
    "\n",
    "    pos = np.moveaxis(np.array(fh5['/position']), [3,2], [1,3])[0,:,:,:]\n",
    "    vel = np.moveaxis(np.array(fh5['/velocity']), [3,2], [1,3])[0,:,:,:]\n",
    "\n",
    "posDat = at.datCollector( pos )\n",
    "velDat = at.datCollector( vel )\n",
    "positions = [posDat]\n",
    "\n",
    "\n",
    "# comment line below for colors representing alignment strength\n",
    "colors = 'k'\n",
    "# get info from files\n",
    "time, N, _ = posDat.dat.shape \n",
    "\n",
    "\n",
    "\n",
    "f, ax = plt.subplots(1)\n",
    "ax.axis('off')\n",
    "ax.set_aspect('equal')\n",
    "# Collect update-tasks\n",
    "#preds.colors = \"r\"\n",
    "#preds_back_plot.colors = \"b\"\n",
    "tasks = at.taskCollector()\n",
    "\n",
    "\n",
    "tasks.append( at.Limits4Pos(positions, ax) )\n",
    "tasks.append( at.headAndTail(posDat, ax))\n",
    "\n",
    "#tasks.append( at.headAndTail(preds, ax))\n",
    "#tasks.append( at.headAndTail(preds_back_plot, ax))\n",
    "# animation\n",
    "interval = 1000*(1/fps) # interval in ms\n",
    "anim = animation.FuncAnimation(f, tasks.update, interval=interval,\n",
    "                               frames=range(0-1, time), repeat=True)\n",
    "\n",
    "\n",
    "plt.show()\n",
    "anim.save(name + '.mp4', writer='ffmpeg', dpi=dpi, bitrate=-1, codec='libx264')"
   ]
  }
 ],
 "metadata": {
  "kernelspec": {
   "display_name": "Python 3 (ipykernel)",
   "language": "python",
   "name": "python3"
  },
  "language_info": {
   "codemirror_mode": {
    "name": "ipython",
    "version": 3
   },
   "file_extension": ".py",
   "mimetype": "text/x-python",
   "name": "python",
   "nbconvert_exporter": "python",
   "pygments_lexer": "ipython3",
   "version": "3.8.10"
  }
 },
 "nbformat": 4,
 "nbformat_minor": 5
}
