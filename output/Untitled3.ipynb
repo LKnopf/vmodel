{
 "cells": [
  {
   "cell_type": "code",
   "execution_count": 1,
   "id": "e6a48f8e-26af-4317-ae02-46ea05e20117",
   "metadata": {},
   "outputs": [],
   "source": [
    "import sys\n",
    "import numpy as np\n",
    "import matplotlib\n",
    "import matplotlib.pyplot as plt\n",
    "from matplotlib import animation\n",
    "import h5py\n",
    "import glob\n",
    "sys.path.insert(1, '/home/lars/predatorprey-1/predprey-staticnw/')\n",
    "from animateSwarm import AnimateTools as at\n",
    "from TsTools import general as gen\n",
    "from pathlib import Path\n",
    "import pickle\n",
    "from functools import partial\n",
    "from vmodel import geometry as vgeom\n",
    "from vmodel import plot\n",
    "from vmodel.util import color as vcolor"
   ]
  },
  {
   "cell_type": "code",
   "execution_count": 2,
   "id": "d2d702c6-aeed-436d-b32d-925c7c909ac3",
   "metadata": {},
   "outputs": [],
   "source": [
    "def filter_front_target(pos, vel, target):\n",
    "    vel_self = vel[target]\n",
    "    pos_self = pos[target]\n",
    "    pos = np.delete(pos, target, axis=0)\n",
    "    pos = pos - pos_self\n",
    "    \n",
    "    \n",
    "    \n",
    "    \n",
    "    out_idx = []\n",
    "    for i in range(len(pos)):\n",
    "        \n",
    "        ort_pv = [0,0]\n",
    "        ort_pv[0] = -vel_self[1]\n",
    "        ort_pv[1] = vel_self[0]\n",
    "        \n",
    "        r_pi = np.array(pos[i])\n",
    "        if (-r_pi[0] * ort_pv[1] + r_pi[1] * ort_pv[0] < 0):\n",
    "            out_idx.append(i)\n",
    "            \n",
    "    return out_idx\n",
    "        \n",
    "def pavas2colors(pavas):\n",
    "    if np.std(pavas) > 1e-5:\n",
    "        colors = np.squeeze(pavas)\n",
    "        colors -= colors.min()\n",
    "        colors /= colors.max()\n",
    "    else:\n",
    "        colors = 'k'\n",
    "    return colors"
   ]
  },
  {
   "cell_type": "code",
   "execution_count": 3,
   "id": "766c1d6b-e5e3-4bac-a094-c2e6fa1b739c",
   "metadata": {},
   "outputs": [
    {
     "name": "stdout",
     "output_type": "stream",
     "text": [
      "[[[-20.         -20.        ]\n",
      "  [  7.57609274   1.47625813]\n",
      "  [ -8.29143901  -0.70359824]\n",
      "  ...\n",
      "  [  5.84386851  -6.88923655]\n",
      "  [ -1.03711997  -2.04665478]\n",
      "  [  3.86776974  -2.3609478 ]]\n",
      "\n",
      " [[-19.7861315  -19.78961876]\n",
      "  [  7.67595264   1.48154977]\n",
      "  [ -8.19666084  -0.67170624]\n",
      "  ...\n",
      "  [  5.93652052  -6.92686108]\n",
      "  [ -1.129217    -2.07850368]\n",
      "  [  3.919844    -2.27557642]]\n",
      "\n",
      " [[-19.57232714 -19.57917234]\n",
      "  [  7.77595231   1.4818044 ]\n",
      "  [ -8.10083064  -0.6431305 ]\n",
      "  ...\n",
      "  [  6.03227624  -6.95568542]\n",
      "  [ -1.22329947  -2.10421937]\n",
      "  [  3.96734242  -2.18757699]]\n",
      "\n",
      " ...\n",
      "\n",
      " [[  2.00272826  31.22941666]\n",
      "  [  6.83795296   4.66618815]\n",
      "  [  3.41866781   1.82331883]\n",
      "  ...\n",
      "  [ 14.10762966   5.24010477]\n",
      "  [  5.5472061    6.14796985]\n",
      "  [ 10.13334271   8.22125899]]\n",
      "\n",
      " [[  2.03749819  31.52739493]\n",
      "  [  6.9079176    4.73763707]\n",
      "  [  3.50328897   1.87660353]\n",
      "  ...\n",
      "  [ 14.19630175   5.28633529]\n",
      "  [  5.63129374   6.20209258]\n",
      "  [ 10.14697831   8.32032498]]\n",
      "\n",
      " [[  2.07226811  31.82537321]\n",
      "  [  6.97404925   4.81264777]\n",
      "  [  3.58750078   1.93053284]\n",
      "  ...\n",
      "  [ 14.28233942   5.33730115]\n",
      "  [  5.71169267   6.26155694]\n",
      "  [ 10.16943492   8.41777086]]]\n"
     ]
    },
    {
     "ename": "ValueError",
     "evalue": "The truth value of an array with more than one element is ambiguous. Use a.any() or a.all()",
     "output_type": "error",
     "traceback": [
      "\u001b[0;31m---------------------------------------------------------------------------\u001b[0m",
      "\u001b[0;31mValueError\u001b[0m                                Traceback (most recent call last)",
      "Input \u001b[0;32mIn [3]\u001b[0m, in \u001b[0;36m<cell line: 27>\u001b[0;34m()\u001b[0m\n\u001b[1;32m     23\u001b[0m     vel \u001b[38;5;241m=\u001b[39m np\u001b[38;5;241m.\u001b[39mmoveaxis(np\u001b[38;5;241m.\u001b[39marray(fh5[\u001b[38;5;124m'\u001b[39m\u001b[38;5;124m/velocity\u001b[39m\u001b[38;5;124m'\u001b[39m]), [\u001b[38;5;241m3\u001b[39m,\u001b[38;5;241m2\u001b[39m], [\u001b[38;5;241m1\u001b[39m,\u001b[38;5;241m3\u001b[39m])[\u001b[38;5;241m0\u001b[39m,:,:,:]\n\u001b[1;32m     26\u001b[0m \u001b[38;5;28mprint\u001b[39m(pos)\n\u001b[0;32m---> 27\u001b[0m idx_front \u001b[38;5;241m=\u001b[39m \u001b[43mfilter_front_target\u001b[49m\u001b[43m(\u001b[49m\u001b[43mpos\u001b[49m\u001b[43m,\u001b[49m\u001b[43m \u001b[49m\u001b[43mvel\u001b[49m\u001b[43m,\u001b[49m\u001b[43m \u001b[49m\u001b[38;5;241;43m0\u001b[39;49m\u001b[43m)\u001b[49m\n\u001b[1;32m     28\u001b[0m idx_all \u001b[38;5;241m=\u001b[39m \u001b[38;5;28mlist\u001b[39m(\u001b[38;5;28mrange\u001b[39m(\u001b[38;5;28mlen\u001b[39m(pos)))\n\u001b[1;32m     29\u001b[0m \u001b[38;5;28mprint\u001b[39m(idx_all)\n",
      "Input \u001b[0;32mIn [2]\u001b[0m, in \u001b[0;36mfilter_front_target\u001b[0;34m(pos, vel, target)\u001b[0m\n\u001b[1;32m     15\u001b[0m     ort_pv[\u001b[38;5;241m1\u001b[39m] \u001b[38;5;241m=\u001b[39m vel_self[\u001b[38;5;241m0\u001b[39m]\n\u001b[1;32m     17\u001b[0m     r_pi \u001b[38;5;241m=\u001b[39m np\u001b[38;5;241m.\u001b[39marray(pos[i])\n\u001b[0;32m---> 18\u001b[0m     \u001b[38;5;28;01mif\u001b[39;00m (\u001b[38;5;241m-\u001b[39mr_pi[\u001b[38;5;241m0\u001b[39m] \u001b[38;5;241m*\u001b[39m ort_pv[\u001b[38;5;241m1\u001b[39m] \u001b[38;5;241m+\u001b[39m r_pi[\u001b[38;5;241m1\u001b[39m] \u001b[38;5;241m*\u001b[39m ort_pv[\u001b[38;5;241m0\u001b[39m] \u001b[38;5;241m<\u001b[39m \u001b[38;5;241m0\u001b[39m):\n\u001b[1;32m     19\u001b[0m         out_idx\u001b[38;5;241m.\u001b[39mappend(i)\n\u001b[1;32m     21\u001b[0m \u001b[38;5;28;01mreturn\u001b[39;00m out_idx\n",
      "\u001b[0;31mValueError\u001b[0m: The truth value of an array with more than one element is ambiguous. Use a.any() or a.all()"
     ]
    }
   ],
   "source": [
    "#file_h5 = str(file)+\".h5\"\n",
    "#file_dat = str(file)+\".dat\"\n",
    "\n",
    "\n",
    "\n",
    "mode = 'gif' # 'normal', 'pictures', 'movie', 'gif'\n",
    "fps = 15\n",
    "dpi = 200\n",
    "NsamShow = 4\n",
    "sizePrey = 1/8\n",
    "sizePred = sizePrey * 2\n",
    "cmap = plt.get_cmap('coolwarm') # alternatives 'bwr', 'Reds'\n",
    "\n",
    "\n",
    "file_h5 = \"/home/lars/vmodel/output/state.nc\"\n",
    "name = \"state\"\n",
    "\n",
    "\n",
    "with h5py.File(file_h5) as fh5:\n",
    "\n",
    "\n",
    "    pos = np.moveaxis(np.array(fh5['/position']), [3,2], [1,3])[0,:,:,:]\n",
    "    vel = np.moveaxis(np.array(fh5['/velocity']), [3,2], [1,3])[0,:,:,:]\n",
    "\n",
    "    \n",
    "print(pos)\n",
    "idx_front = filter_front_target(pos, vel, 0)\n",
    "idx_all = list(range(len(pos)))\n",
    "print(idx_all)\n",
    "\n",
    "\n",
    "pos_front = pos[idx_front]\n",
    "vel_front = vel[idx_front]\n",
    "\n",
    "\n",
    "\n",
    "\n",
    "posDat = at.datCollector( pos )\n",
    "velDat = at.datCollector( vel )\n",
    "positions = [posDat]\n",
    "\n",
    "\n",
    "# comment line below for colors representing alignment strength\n",
    "colors = 'k'\n",
    "# get info from files\n",
    "time, N, _ = posDat.dat.shape "
   ]
  },
  {
   "cell_type": "code",
   "execution_count": null,
   "id": "346d91e0-affd-4e40-adf1-63ab8b5f59c9",
   "metadata": {},
   "outputs": [],
   "source": [
    "f, ax = plt.subplots(1)\n",
    "ax.axis('off')\n",
    "ax.set_aspect('equal')\n",
    "# Collect update-tasks\n",
    "#preds.colors = \"r\"\n",
    "posDat.colors = \"b\"\n",
    "tasks = at.taskCollector()\n",
    "\n",
    "\n",
    "tasks.append( at.Limits4Pos(positions, ax) )\n",
    "tasks.append( at.headAndTail(posDat, ax))\n",
    "#print(pos[:][1])\n",
    "tasks.append(at.plot_nselect_visual(ax, pos))\n",
    "\n",
    "#tasks.append( at.headAndTail(preds, ax))\n",
    "#tasks.append( at.headAndTail(preds_back_plot, ax))\n",
    "# animation\n",
    "interval = 1000*(1/fps) # interval in ms\n",
    "anim = animation.FuncAnimation(f, tasks.update, interval=interval,\n",
    "                               frames=range(0-1, time), repeat=True)\n",
    "\n",
    "\n",
    "plt.show()\n",
    "anim.save(name + '.mp4', writer='ffmpeg', dpi=dpi, bitrate=-1, codec='libx264')"
   ]
  },
  {
   "cell_type": "code",
   "execution_count": 13,
   "id": "7158ac1b-48a3-4af3-86c5-0ab7acb07d46",
   "metadata": {},
   "outputs": [
    {
     "ename": "TypeError",
     "evalue": "randint() takes 3 positional arguments but 4 were given",
     "output_type": "error",
     "traceback": [
      "\u001b[0;31m---------------------------------------------------------------------------\u001b[0m",
      "\u001b[0;31mTypeError\u001b[0m                                 Traceback (most recent call last)",
      "Input \u001b[0;32mIn [13]\u001b[0m, in \u001b[0;36m<cell line: 3>\u001b[0;34m()\u001b[0m\n\u001b[1;32m      1\u001b[0m \u001b[38;5;28;01mimport\u001b[39;00m \u001b[38;5;21;01mrandom\u001b[39;00m\n\u001b[1;32m      2\u001b[0m \u001b[38;5;28;01mimport\u001b[39;00m \u001b[38;5;21;01mmath\u001b[39;00m\n\u001b[0;32m----> 3\u001b[0m \u001b[43mrandom\u001b[49m\u001b[38;5;241;43m.\u001b[39;49m\u001b[43mrandint\u001b[49m\u001b[43m(\u001b[49m\u001b[38;5;241;43m4\u001b[39;49m\u001b[43m,\u001b[49m\u001b[38;5;241;43m9\u001b[39;49m\u001b[43m,\u001b[49m\u001b[38;5;241;43m10\u001b[39;49m\u001b[43m)\u001b[49m\n",
      "\u001b[0;31mTypeError\u001b[0m: randint() takes 3 positional arguments but 4 were given"
     ]
    }
   ],
   "source": [
    "import random\n",
    "import math\n",
    "random.randint(4,9,10)\n"
   ]
  },
  {
   "cell_type": "code",
   "execution_count": 32,
   "id": "a1b89ae9-416a-43ac-9e94-f0c28f2355c3",
   "metadata": {},
   "outputs": [
    {
     "data": {
      "text/plain": [
       "0.4582737473663741"
      ]
     },
     "execution_count": 32,
     "metadata": {},
     "output_type": "execute_result"
    }
   ],
   "source": [
    "np.random.normal(0,1)"
   ]
  },
  {
   "cell_type": "code",
   "execution_count": 40,
   "id": "ba7224aa-e7ad-4d64-93eb-eb89f741b264",
   "metadata": {},
   "outputs": [
    {
     "data": {
      "image/png": "[encoded data removed]",
      "text/plain": [
       "<Figure size 432x288 with 1 Axes>"
      ]
     },
     "metadata": {
      "needs_background": "light"
     },
     "output_type": "display_data"
    }
   ],
   "source": [
    "from shapely.geometry import Polygon\n",
    "import matplotlib.pyplot as plt\n",
    "import geopandas as gpd\n",
    "\n",
    "polygon1 = Polygon([(2.12,9),\n",
    "                    (1,1),\n",
    "                    (3,0),\n",
    "                    ])\n",
    "polygon1 = Polygon([(0.8537029150157097, 0.5207603411298521), (-0.09656090877618911, 3.9988343290134334), (3.5113725688390285, -1.9157929644940244)])\n",
    "p = gpd.GeoSeries(polygon1)\n",
    "p.plot()\n",
    "plt.show()"
   ]
  }
 ],
 "metadata": {
  "kernelspec": {
   "display_name": "Python 3 (ipykernel)",
   "language": "python",
   "name": "python3"
  },
  "language_info": {
   "codemirror_mode": {
    "name": "ipython",
    "version": 3
   },
   "file_extension": ".py",
   "mimetype": "text/x-python",
   "name": "python",
   "nbconvert_exporter": "python",
   "pygments_lexer": "ipython3",
   "version": "3.8.10"
  }
 },
 "nbformat": 4,
 "nbformat_minor": 5
}
