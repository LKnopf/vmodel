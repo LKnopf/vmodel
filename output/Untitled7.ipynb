{
 "cells": [
  {
   "cell_type": "code",
   "execution_count": 13,
   "id": "1b986353-072a-4b0b-a221-c4c4518f4fd1",
   "metadata": {},
   "outputs": [
    {
     "name": "stdout",
     "output_type": "stream",
     "text": [
      "/home/lars/vmodel_output/_nprey_100_npred_1_frange_10_fstr_0.0_visPred_300.0_visPrey_330_astr_3_dphi_0.2_repPrey_3_repRadPrey_1.5_repPred_21_repRadPred_20_attPrey_3_attRadPrey_1.5_repCol_10000000_hstr_1_steps_4000_fangle_30.0_pangle_0.states.nc\n",
      "(1, 100, 100, 2800)\n",
      "0\n",
      "0.051505214285714286\n"
     ]
    }
   ],
   "source": [
    "import vmodel\n",
    "import os\n",
    "import numpy as np\n",
    "import h5py\n",
    "import datetime\n",
    "import scipy.spatial\n",
    "import math\n",
    "\n",
    "\n",
    "class Vect:\n",
    "\n",
    "   def __init__(self, a, b):\n",
    "        self.a = a\n",
    "        self.b = b\n",
    "\n",
    "   def findClockwiseAngle(self, other):\n",
    "       # using cross-product formula\n",
    "       return -math.degrees(math.asin((self.a * other.b - self.b * other.a)/(self.length()*other.length())))\n",
    "       # the dot-product formula, left here just for comparison (does not return angles in the desired range)\n",
    "       # return math.degrees(math.acos((self.a * other.a + self.b * other.b)/(self.length()*other.length())))\n",
    "\n",
    "   def length(self):\n",
    "       return math.sqrt(self.a**2 + self.b**2)\n",
    "\n",
    "def calc_order(vel: np.ndarray) -> float:\n",
    "    \"\"\"Compute order parameter from velocity matrix\n",
    "    Args:\n",
    "        vel: velocity matrix (N x D)\n",
    "    Returns:\n",
    "        order: velocity correlation\n",
    "    \"\"\"\n",
    "    N, _ = vel.shape\n",
    "    speed = np.linalg.norm(vel, axis=1, keepdims=True)  # N x 1\n",
    "    speed_prod = speed.dot(speed.T)  # N x N\n",
    "    mask = (speed_prod != 0)  # avoid division by zero!\n",
    "    dot_prod = vel.dot(vel.T)  # N x N\n",
    "    np.fill_diagonal(dot_prod, 0)  # i != j\n",
    "    return (dot_prod[mask] / speed_prod[mask]).sum() / (N * (N - 1))\n",
    "out_str = \"/home/lars/vmodel_output/relax_100_Nocol_occ/\"\n",
    "saveLoc = \"/home/lars/vmodel_output/\"\n",
    "saveName = \"test_relax100_NoCol_occ\"\n",
    "\n",
    "\n",
    "args = {\n",
    "'nprey': 100,\n",
    "'npred': 1,\n",
    "'frange': 10,\n",
    "'fstr': 50.0,\n",
    "'visPred': 300.0,\n",
    "'visPrey': 330,\n",
    "'astr': 3,\n",
    "'dphi': 0.2,\n",
    "'repPrey': 3,\n",
    "'repRadPrey': 1.5,\n",
    "'repPred': 21,  \n",
    "'repRadPred': 20,\n",
    "'attPrey': 3,\n",
    "'attRadPrey': 1.5,\n",
    "'repCol': 10000000,\n",
    "'hstr': 1,\n",
    "'steps': 4000,\n",
    "    }\n",
    "\n",
    "paraChange1_name = \"fangle\"\n",
    "paraChange2_name = \"pangle\"\n",
    "steps = 20 #10\n",
    "reps = 1 #20\n",
    "pred_time = 1200\n",
    "\n",
    "total = steps*steps*reps\n",
    "\n",
    "paraChange1_val = np.linspace(0,3,steps)\n",
    "paraChange2_val = np.linspace(0,1,steps)\n",
    "\n",
    "paraChange1_val = [30.0]\n",
    "paraChange2_val = [0] #,90,180]\n",
    "\n",
    "\n",
    "mindist_hm = []\n",
    "\n",
    "time_now = datetime.datetime.now()\n",
    "time_elapsed = 0\n",
    "NN_scan = np.zeros((steps, steps, reps, args[\"steps\"]-pred_time))\n",
    "\n",
    "\n",
    "\n",
    "for i in range(len(paraChange1_val)):\n",
    "    \n",
    "    for j in range(len(paraChange2_val)):\n",
    "\n",
    "        #np.savetxt(str(saveLoc)+\"\"+str(saveName)+\"pol_\"+str(paraChange1_name)+\"_\"+str(paraChange2_name)+\".csv\", pol_scan, delimiter=\",\")\n",
    "  \n",
    "        #pol_reps = np.zeros((reps, args[\"steps\"]))\n",
    "        IID_reps = []\n",
    "        CND_reps = []\n",
    "        \n",
    "        args[paraChange1_name] = paraChange1_val[i]\n",
    "        args[paraChange2_name] = paraChange2_val[j]\n",
    "\n",
    "        npred = args[\"npred\"]\n",
    "        nprey = args[\"nprey\"]\n",
    "        \n",
    "\n",
    "        args_str = '_'.join(f'{k}_{v}' for k, v in args.items())\n",
    "\n",
    "        file_h5 = f'{out_str}_{args_str}.states.nc'\n",
    "        file_h5 = \"/home/lars/vmodel_output/_nprey_100_npred_1_frange_10_fstr_0.0_visPred_300.0_visPrey_330_astr_3_dphi_0.2_repPrey_3_repRadPrey_1.5_repPred_21_repRadPred_20_attPrey_3_attRadPrey_1.5_repCol_10000000_hstr_1_steps_4000_fangle_30.0_pangle_0.states.nc\"\n",
    "\n",
    "        print(file_h5)\n",
    "        \n",
    "\n",
    "\n",
    "        try:\n",
    "            with h5py.File(file_h5) as fh5:\n",
    "                #vel = np.moveaxis(np.array(fh5['/velocity']), [3,2], [1,3])[:,:,:,:]\n",
    "                #pos = np.moveaxis(np.array(fh5['/position']), [3,2], [1,3])[:,:,:,:]\n",
    "                vis = np.array(fh5['/visibility'])[:,:100,:100,:]\n",
    "\n",
    "        except:\n",
    "            print(\"File not Found, going on\")\n",
    "        \n",
    "        print(np.shape(vis))\n",
    "\n",
    "        for rep in range(reps):\n",
    "            \n",
    "            print(rep)\n",
    "            \n",
    "            #vel_rep = vel[rep,:,:nprey,:]\n",
    "            #pos_rep = pos[rep,:,:nprey,:]\n",
    "            vis_rep = vis[rep,:,:,:]\n",
    "\n",
    "\n",
    "            time, N, dim = np.shape(vis_rep)\n",
    "            NN_scan[i, j, rep] = np.mean(vis_rep)\n",
    "            print(np.mean(vis_rep))"
   ]
  },
  {
   "cell_type": "code",
   "execution_count": 11,
   "id": "497c66ae-58e8-4435-98f5-d15ccce11bcf",
   "metadata": {},
   "outputs": [
    {
     "data": {
      "text/plain": [
       "(100, 100, 2800)"
      ]
     },
     "execution_count": 11,
     "metadata": {},
     "output_type": "execute_result"
    }
   ],
   "source": [
    "np.shape(vis_rep)"
   ]
  },
  {
   "cell_type": "code",
   "execution_count": 15,
   "id": "f9818642-a21c-40df-b8dd-6a961e39c30c",
   "metadata": {},
   "outputs": [
    {
     "data": {
      "text/plain": [
       "5"
      ]
     },
     "execution_count": 15,
     "metadata": {},
     "output_type": "execute_result"
    }
   ],
   "source": [
    "np.sum(vis_rep[0,:,2000])"
   ]
  },
  {
   "cell_type": "code",
   "execution_count": 18,
   "id": "acf9a091-5f5e-42a4-ace4-16bd381655d6",
   "metadata": {},
   "outputs": [
    {
     "data": {
      "text/plain": [
       "5.1505214285714285"
      ]
     },
     "execution_count": 18,
     "metadata": {},
     "output_type": "execute_result"
    }
   ],
   "source": [
    "np.mean(np.sum(vis_rep, axis = 1))"
   ]
  }
 ],
 "metadata": {
  "kernelspec": {
   "display_name": "Python 3 (ipykernel)",
   "language": "python",
   "name": "python3"
  },
  "language_info": {
   "codemirror_mode": {
    "name": "ipython",
    "version": 3
   },
   "file_extension": ".py",
   "mimetype": "text/x-python",
   "name": "python",
   "nbconvert_exporter": "python",
   "pygments_lexer": "ipython3",
   "version": "3.8.10"
  }
 },
 "nbformat": 4,
 "nbformat_minor": 5
}
