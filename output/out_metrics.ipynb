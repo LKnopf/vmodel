{
 "cells": [
  {
   "cell_type": "code",
   "execution_count": 2,
   "id": "1ee87c8a-5a0b-4edd-92ac-46a5dc20b8c0",
   "metadata": {},
   "outputs": [],
   "source": [
    "import numpy as np\n",
    "import math\n",
    "import h5py\n",
    "import glob\n",
    "import matplotlib.pyplot as plt"
   ]
  },
  {
   "cell_type": "code",
   "execution_count": 5,
   "id": "c201bf30-e1f5-4d61-b6ab-a6e9c9470047",
   "metadata": {},
   "outputs": [],
   "source": [
    "def order(vel: np.ndarray) -> float:\n",
    "    \"\"\"Compute order parameter from velocity matrix\n",
    "    Args:\n",
    "        vel: velocity matrix (N x D)\n",
    "    Returns:\n",
    "        order: velocity correlation\n",
    "    \"\"\"\n",
    "    N, _ = vel.shape\n",
    "    speed = np.linalg.norm(vel, axis=1, keepdims=True)  # N x 1\n",
    "    speed_prod = speed.dot(speed.T)  # N x N\n",
    "    mask = (speed_prod != 0)  # avoid division by zero!\n",
    "    dot_prod = vel.dot(vel.T)  # N x N\n",
    "    np.fill_diagonal(dot_prod, 0)  # i != j\n",
    "    return (dot_prod[mask] / speed_prod[mask]).sum() / (N * (N - 1))"
   ]
  },
  {
   "cell_type": "code",
   "execution_count": 8,
   "id": "06a91430-3c3a-49dc-8768-ebf3de23e607",
   "metadata": {},
   "outputs": [
    {
     "name": "stdout",
     "output_type": "stream",
     "text": [
      "/home/lars/vmodel_output/testingPoly2_change_npred=1_nprey_100_npred_1_frange_10_fstr_0.0_visPred_300.0_visPrey_330_astr_5.0_dphi_0.2_repPrey_3_repRadPrey_1.5_repPred_1_repRadPred_20_attPrey_3_attRadPrey_1.5_repCol_10000000_hstr_1_steps_1500\n"
     ]
    }
   ],
   "source": [
    "# Construct output file name\n",
    "out_str = \"/home/lars/vmodel_output/\"\n",
    "args_def = {\n",
    "'nprey': 100,\n",
    "'npred': 5,\n",
    "'frange': 10,\n",
    "'fstr': 5,\n",
    "'visPred': 120,\n",
    "'visPrey': 330,\n",
    "'astr': 3,\n",
    "'dphi': 0.2,\n",
    "'repPrey': 1,\n",
    "'repRadPrey': 1,\n",
    "'repPred': 1,\n",
    "'repRadPred': 20,\n",
    "'attPrey': 2,\n",
    "'attRadPrey': 3,\n",
    "'repCol': 1000,\n",
    "'hstr': 1,\n",
    "'steps': 12000,\n",
    "    }\n",
    "\n",
    "args_def = {\n",
    "'nprey': 100,\n",
    "'npred': 1,\n",
    "'frange': 10,\n",
    "'fstr': 0.0,\n",
    "'visPred': 300.0,\n",
    "'visPrey': 330,\n",
    "'astr': 5.0,\n",
    "'dphi': 0.2,\n",
    "'repPrey': 3,\n",
    "'repRadPrey': 1.5,\n",
    "'repPred': 1,\n",
    "'repRadPred': 20,\n",
    "'attPrey': 3,\n",
    "'attRadPrey': 1.5,\n",
    "'repCol': 10000000,\n",
    "'hstr': 1,\n",
    "'steps': 1500,\n",
    "    }\n",
    "\n",
    "\n",
    "\n",
    "var_par = [\"npred\"]\n",
    "var_val = [1]\n",
    "\n",
    "runs = len(var_par)\n",
    "#runs = 1\n",
    "\n",
    "list_args = []\n",
    "for i in range(runs):\n",
    "    list_args.append(args_def.copy())\n",
    "\n",
    "if len(var_par) != len(var_val):\n",
    "    sys.exit( \"Lists do not match!\")\n",
    "\n",
    "\n",
    "for i in range(runs):\n",
    "    \n",
    "    args = list_args[i]\n",
    "    args[var_par[i]] = var_val[i]\n",
    "    \n",
    "    npred = args[\"npred\"]\n",
    "    nprey = args[\"nprey\"]\n",
    "    pred_visangle = 2*math.pi*args[\"visPred\"]/360\n",
    "    prey_visangle = 2*math.pi*args[\"visPrey\"]/360\n",
    "\n",
    "\n",
    "\n",
    "    args_str = '_'.join(f'{k}_{v}' for k, v in args.items())\n",
    "    file_h5 = f'{out_str}_{args_str}.states.nc'\n",
    "\n",
    "\n",
    "\n",
    "    #file_h5 = \"/home/lars/vmodel/output/state.nc\"\n",
    "    name = \"/home/lars/vmodel_output/testingPoly2_change_\"+str(var_par[i])+\"=\"+str(var_val[i])+\"_\"+args_str\n",
    "    print(name)\n",
    "\n",
    "\n",
    "    with h5py.File(file_h5) as fh5:\n",
    "\n",
    "\n",
    "        pos = np.moveaxis(np.array(fh5['/position']), [3,2], [1,3])[0,:,:,:]\n",
    "        vel = np.moveaxis(np.array(fh5['/velocity']), [3,2], [1,3])[0,:,:,:]\n",
    "        vis = np.array(fh5['/visibility'])"
   ]
  },
  {
   "cell_type": "code",
   "execution_count": 10,
   "id": "2274b3f9-17b8-4ff2-b245-a87398b03a4c",
   "metadata": {},
   "outputs": [
    {
     "data": {
      "text/plain": [
       "(1498, 101, 2)"
      ]
     },
     "execution_count": 10,
     "metadata": {},
     "output_type": "execute_result"
    }
   ],
   "source": [
    "np.shape(pos)"
   ]
  },
  {
   "cell_type": "code",
   "execution_count": 17,
   "id": "b2be9388-8226-4dbc-8ae6-4c1fded6f5bf",
   "metadata": {},
   "outputs": [],
   "source": [
    "pol = []\n",
    "predTime = 2\n",
    "for i in range(args[\"steps\"]-predTime):\n",
    "    pol.append(order(vel[i,:nprey,:]))"
   ]
  },
  {
   "cell_type": "code",
   "execution_count": 20,
   "id": "334e3dfe-a90a-4e48-bf11-6cc7b50238da",
   "metadata": {},
   "outputs": [
    {
     "data": {
      "text/plain": [
       "[<matplotlib.lines.Line2D at 0x7f1602dfd4f0>]"
      ]
     },
     "execution_count": 20,
     "metadata": {},
     "output_type": "execute_result"
    },
    {
     "data": {
      "image/png": "[encoded data removed]",
      "text/plain": [
       "<Figure size 432x288 with 1 Axes>"
      ]
     },
     "metadata": {
      "needs_background": "light"
     },
     "output_type": "display_data"
    }
   ],
   "source": [
    "plt.plot(pol)"
   ]
  },
  {
   "cell_type": "code",
   "execution_count": 6,
   "id": "b6a77340-0582-4a36-ae34-77947e48989a",
   "metadata": {},
   "outputs": [
    {
     "data": {
      "text/plain": [
       "array([[0., 0., 0., 0., 0.],\n",
       "       [0., 0., 0., 2., 0.],\n",
       "       [0., 0., 0., 0., 0.],\n",
       "       [0., 0., 0., 0., 0.],\n",
       "       [0., 0., 0., 0., 0.]])"
      ]
     },
     "execution_count": 6,
     "metadata": {},
     "output_type": "execute_result"
    }
   ],
   "source": [
    "a = np.zeros((5,5))\n",
    "a[1,3] = 2\n",
    "a"
   ]
  },
  {
   "cell_type": "code",
   "execution_count": 10,
   "id": "77974c1b-8d59-4da6-9f18-137b164834ff",
   "metadata": {},
   "outputs": [],
   "source": [
    "from numpy import loadtxt\n",
    "lines = loadtxt(\"noPred_pol_astr_dphi.csv\", comments=\"#\", delimiter=\",\", unpack=False)"
   ]
  },
  {
   "cell_type": "code",
   "execution_count": 11,
   "id": "4ab4a224-e0e7-4b14-855f-885e6c5de6ab",
   "metadata": {},
   "outputs": [
    {
     "data": {
      "text/plain": [
       "(20, 20)"
      ]
     },
     "execution_count": 11,
     "metadata": {},
     "output_type": "execute_result"
    }
   ],
   "source": [
    "np.shape(lines)\n"
   ]
  },
  {
   "cell_type": "code",
   "execution_count": 157,
   "id": "a3fac0b6-b7a2-42ee-8482-9b12825e4306",
   "metadata": {},
   "outputs": [
    {
     "data": {
      "image/png": "[encoded data removed]",
      "text/plain": [
       "<Figure size 720x540 with 2 Axes>"
      ]
     },
     "metadata": {},
     "output_type": "display_data"
    }
   ],
   "source": [
    "import pandas as pd\n",
    "import seaborn as sns; sns.set_theme()\n",
    "import array as arr\n",
    "data = pd.read_csv(\"noPred_noMultColpol_astr_dphi.csv\", header=None, index_col=False)\n",
    "data = data[::-1]\n",
    "\n",
    "\n",
    "steps = 20\n",
    "reps = 30\n",
    "\n",
    "\n",
    "paraChange1_val = np.linspace(0,3,steps)\n",
    "paraChange2_val = np.linspace(0,1,steps)\n",
    "\n",
    "data.index = np.flip(np.round(paraChange1_val,3))\n",
    "data.columns = np.round(paraChange2_val,3)\n",
    "\n",
    "\n",
    "sns.heatmap(data, cmap=\"Reds\")\n",
    "\n",
    "plt.xlabel(\"angular noise $D$\", fontsize = 15) # x-axis label with fontsize 15\n",
    "plt.ylabel(\"alignment strength \" + u'$μ_{alg}$', fontsize = 15) # y-axis label with fontsize 15\n",
    "plt.gcf().set_size_inches(10,7.5)"
   ]
  },
  {
   "cell_type": "code",
   "execution_count": 152,
   "id": "7c435b35-f0f6-4519-b6b9-932046688cc3",
   "metadata": {},
   "outputs": [
    {
     "data": {
      "image/png": "[encoded data removed]",
      "text/plain": [
       "<Figure size 432x288 with 1 Axes>"
      ]
     },
     "metadata": {},
     "output_type": "display_data"
    }
   ],
   "source": [
    "x = np.array(range(220))\n",
    "x = x/10\n",
    "#plt.plot(x, np.exp((x)))\n",
    "\n",
    "pitch = 4\n",
    "plt.plot(x, np.exp(-20/pitch+(x/pitch)), label = \"slope = 4\")\n",
    "pitch = 1\n",
    "plt.plot(x, np.exp(-20/pitch+(x/pitch)), label = \"slope = 1\")\n",
    "plt.legend()\n",
    "plt.xlabel('Distance')\n",
    "plt.ylabel('Force')\n",
    "plt.savefig(\"func.png\")"
   ]
  },
  {
   "cell_type": "code",
   "execution_count": 66,
   "id": "da66bba2-68d9-4b34-a090-9c6bc4f250fc",
   "metadata": {},
   "outputs": [
    {
     "data": {
      "text/plain": [
       "array([  10,   11,   12,   13,   14,   15,   16,   17,   18,   19,   20,\n",
       "         21,   22,   23,   24,   25,   26,   27,   28,   29,   30,   31,\n",
       "         32,   33,   34,   35,   36,   37,   38,   39,   40,   41,   42,\n",
       "         43,   44,   45,   46,   47,   48,   49,   50,   51,   52,   53,\n",
       "         54,   55,   56,   57,   58,   59,   60,   61,   62,   63,   64,\n",
       "         65,   66,   67,   68,   69,   70,   71,   72,   73,   74,   75,\n",
       "         76,   77,   78,   79,   80,   81,   82,   83,   84,   85,   86,\n",
       "         87,   88,   89,   90,   91,   92,   93,   94,   95,   96,   97,\n",
       "         98,   99,  100,  101,  102,  103,  104,  105,  106,  107,  108,\n",
       "        109,  110,  111,  112,  113,  114,  115,  116,  117,  118,  119,\n",
       "        120,  121,  122,  123,  124,  125,  126,  127,  128,  129,  130,\n",
       "        131,  132,  133,  134,  135,  136,  137,  138,  139,  140,  141,\n",
       "        142,  143,  144,  145,  146,  147,  148,  149,  150,  151,  152,\n",
       "        153,  154,  155,  156,  157,  158,  159,  160,  161,  162,  163,\n",
       "        164,  165,  166,  167,  168,  169,  170,  171,  172,  173,  174,\n",
       "        175,  176,  177,  178,  179,  180,  181,  182,  183,  184,  185,\n",
       "        186,  187,  188,  189,  190,  191,  192,  193,  194,  195,  196,\n",
       "        197,  198,  199,  200,  201,  202,  203,  204,  205,  206,  207,\n",
       "        208,  209,  210,  211,  212,  213,  214,  215,  216,  217,  218,\n",
       "        219,  220,  221,  222,  223,  224,  225,  226,  227,  228,  229,\n",
       "        230,  231,  232,  233,  234,  235,  236,  237,  238,  239,  240,\n",
       "        241,  242,  243,  244,  245,  246,  247,  248,  249,  250,  251,\n",
       "        252,  253,  254,  255,  256,  257,  258,  259,  260,  261,  262,\n",
       "        263,  264,  265,  266,  267,  268,  269,  270,  271,  272,  273,\n",
       "        274,  275,  276,  277,  278,  279,  280,  281,  282,  283,  284,\n",
       "        285,  286,  287,  288,  289,  290,  291,  292,  293,  294,  295,\n",
       "        296,  297,  298,  299,  300,  301,  302,  303,  304,  305,  306,\n",
       "        307,  308,  309,  310,  311,  312,  313,  314,  315,  316,  317,\n",
       "        318,  319,  320,  321,  322,  323,  324,  325,  326,  327,  328,\n",
       "        329,  330,  331,  332,  333,  334,  335,  336,  337,  338,  339,\n",
       "        340,  341,  342,  343,  344,  345,  346,  347,  348,  349,  350,\n",
       "        351,  352,  353,  354,  355,  356,  357,  358,  359,  360,  361,\n",
       "        362,  363,  364,  365,  366,  367,  368,  369,  370,  371,  372,\n",
       "        373,  374,  375,  376,  377,  378,  379,  380,  381,  382,  383,\n",
       "        384,  385,  386,  387,  388,  389,  390,  391,  392,  393,  394,\n",
       "        395,  396,  397,  398,  399,  400,  401,  402,  403,  404,  405,\n",
       "        406,  407,  408,  409,  410,  411,  412,  413,  414,  415,  416,\n",
       "        417,  418,  419,  420,  421,  422,  423,  424,  425,  426,  427,\n",
       "        428,  429,  430,  431,  432,  433,  434,  435,  436,  437,  438,\n",
       "        439,  440,  441,  442,  443,  444,  445,  446,  447,  448,  449,\n",
       "        450,  451,  452,  453,  454,  455,  456,  457,  458,  459,  460,\n",
       "        461,  462,  463,  464,  465,  466,  467,  468,  469,  470,  471,\n",
       "        472,  473,  474,  475,  476,  477,  478,  479,  480,  481,  482,\n",
       "        483,  484,  485,  486,  487,  488,  489,  490,  491,  492,  493,\n",
       "        494,  495,  496,  497,  498,  499,  500,  501,  502,  503,  504,\n",
       "        505,  506,  507,  508,  509,  510,  511,  512,  513,  514,  515,\n",
       "        516,  517,  518,  519,  520,  521,  522,  523,  524,  525,  526,\n",
       "        527,  528,  529,  530,  531,  532,  533,  534,  535,  536,  537,\n",
       "        538,  539,  540,  541,  542,  543,  544,  545,  546,  547,  548,\n",
       "        549,  550,  551,  552,  553,  554,  555,  556,  557,  558,  559,\n",
       "        560,  561,  562,  563,  564,  565,  566,  567,  568,  569,  570,\n",
       "        571,  572,  573,  574,  575,  576,  577,  578,  579,  580,  581,\n",
       "        582,  583,  584,  585,  586,  587,  588,  589,  590,  591,  592,\n",
       "        593,  594,  595,  596,  597,  598,  599,  600,  601,  602,  603,\n",
       "        604,  605,  606,  607,  608,  609,  610,  611,  612,  613,  614,\n",
       "        615,  616,  617,  618,  619,  620,  621,  622,  623,  624,  625,\n",
       "        626,  627,  628,  629,  630,  631,  632,  633,  634,  635,  636,\n",
       "        637,  638,  639,  640,  641,  642,  643,  644,  645,  646,  647,\n",
       "        648,  649,  650,  651,  652,  653,  654,  655,  656,  657,  658,\n",
       "        659,  660,  661,  662,  663,  664,  665,  666,  667,  668,  669,\n",
       "        670,  671,  672,  673,  674,  675,  676,  677,  678,  679,  680,\n",
       "        681,  682,  683,  684,  685,  686,  687,  688,  689,  690,  691,\n",
       "        692,  693,  694,  695,  696,  697,  698,  699,  700,  701,  702,\n",
       "        703,  704,  705,  706,  707,  708,  709,  710,  711,  712,  713,\n",
       "        714,  715,  716,  717,  718,  719,  720,  721,  722,  723,  724,\n",
       "        725,  726,  727,  728,  729,  730,  731,  732,  733,  734,  735,\n",
       "        736,  737,  738,  739,  740,  741,  742,  743,  744,  745,  746,\n",
       "        747,  748,  749,  750,  751,  752,  753,  754,  755,  756,  757,\n",
       "        758,  759,  760,  761,  762,  763,  764,  765,  766,  767,  768,\n",
       "        769,  770,  771,  772,  773,  774,  775,  776,  777,  778,  779,\n",
       "        780,  781,  782,  783,  784,  785,  786,  787,  788,  789,  790,\n",
       "        791,  792,  793,  794,  795,  796,  797,  798,  799,  800,  801,\n",
       "        802,  803,  804,  805,  806,  807,  808,  809,  810,  811,  812,\n",
       "        813,  814,  815,  816,  817,  818,  819,  820,  821,  822,  823,\n",
       "        824,  825,  826,  827,  828,  829,  830,  831,  832,  833,  834,\n",
       "        835,  836,  837,  838,  839,  840,  841,  842,  843,  844,  845,\n",
       "        846,  847,  848,  849,  850,  851,  852,  853,  854,  855,  856,\n",
       "        857,  858,  859,  860,  861,  862,  863,  864,  865,  866,  867,\n",
       "        868,  869,  870,  871,  872,  873,  874,  875,  876,  877,  878,\n",
       "        879,  880,  881,  882,  883,  884,  885,  886,  887,  888,  889,\n",
       "        890,  891,  892,  893,  894,  895,  896,  897,  898,  899,  900,\n",
       "        901,  902,  903,  904,  905,  906,  907,  908,  909,  910,  911,\n",
       "        912,  913,  914,  915,  916,  917,  918,  919,  920,  921,  922,\n",
       "        923,  924,  925,  926,  927,  928,  929,  930,  931,  932,  933,\n",
       "        934,  935,  936,  937,  938,  939,  940,  941,  942,  943,  944,\n",
       "        945,  946,  947,  948,  949,  950,  951,  952,  953,  954,  955,\n",
       "        956,  957,  958,  959,  960,  961,  962,  963,  964,  965,  966,\n",
       "        967,  968,  969,  970,  971,  972,  973,  974,  975,  976,  977,\n",
       "        978,  979,  980,  981,  982,  983,  984,  985,  986,  987,  988,\n",
       "        989,  990,  991,  992,  993,  994,  995,  996,  997,  998,  999,\n",
       "       1000, 1001, 1002, 1003, 1004, 1005, 1006, 1007, 1008, 1009])"
      ]
     },
     "execution_count": 66,
     "metadata": {},
     "output_type": "execute_result"
    }
   ],
   "source": [
    "x+10"
   ]
  }
 ],
 "metadata": {
  "kernelspec": {
   "display_name": "Python 3 (ipykernel)",
   "language": "python",
   "name": "python3"
  },
  "language_info": {
   "codemirror_mode": {
    "name": "ipython",
    "version": 3
   },
   "file_extension": ".py",
   "mimetype": "text/x-python",
   "name": "python",
   "nbconvert_exporter": "python",
   "pygments_lexer": "ipython3",
   "version": "3.8.10"
  }
 },
 "nbformat": 4,
 "nbformat_minor": 5
}
