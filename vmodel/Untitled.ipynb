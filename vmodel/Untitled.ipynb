{
 "cells": [
  {
   "cell_type": "code",
   "execution_count": null,
   "id": "1f1f29ad-2038-4c49-9419-8b82c46f1544",
   "metadata": {},
   "outputs": [],
   "source": [
    "def filter_angle(pos, vel_self, idx, args, blind_angle = 3*math.pi/2):\n",
    "    out_idx = []\n",
    "    if sum(vel_self) != 0:\n",
    "        vel_self = vel_self/np.linalg.norm(vel_self)\n",
    "    for i in range(len(idx)):\n",
    "        if sum(pos[i]) !=0:\n",
    "            pos_i = pos[i]/np.linalg.norm(pos[i])\n",
    "        else:\n",
    "            pos_i = pos[i]\n",
    "            \n",
    "            \n",
    "        if sum(vel_self) != 0 and sum(pos_i) != 0:\n",
    "            ang_pos = angle_between(vel_self, pos_i)\n",
    "        else:\n",
    "            ang_pos = 10\n",
    "\n",
    "        if ang_pos < blind_angle:\n",
    "            out_idx.append(i)\n",
    "            \n",
    "    return out_idx\n"
   ]
  },
  {
   "cell_type": "code",
   "execution_count": null,
   "id": "d3ee59ca-8d7b-4fcf-b6ff-66cf54be4e49",
   "metadata": {},
   "outputs": [],
   "source": [
    "   \n",
    "def init_pos(args)\n",
    "    circle = 3; // current circle\n",
    "    N=args.num_agents\n",
    "    rep_range = 1\n",
    "    M_PI = math.pi\n",
    "    Ncir = int(2*M_PI*circle); # # of particles fitting on current circle (1st. circle less)\n",
    "    Ncap = Ncir    # # of particle which totally fit on all cicles including current one\n",
    "    ccircle = 0    # # of particles on current circle\n",
    "    sigma_space = 1\n",
    "    angle = []\n",
    "\n",
    "    out_pos = []\n",
    "\n",
    "\n",
    "    allprey = range(N);\n",
    "    rand1 = np.random.uniform(1,0,N)\n",
    "    rand2 = np.random.uniform(1,0,N)\n",
    "    random.shuffle(allprey)\n",
    "\n",
    "            for i in range(N):\n",
    "\n",
    "                ii = allprey[i]\n",
    "                if i == Ncap:\n",
    "                    circle += 1\n",
    "                    Ncir = int(2*M_PI*circle); # length of circumference\n",
    "                    Ncap += Ncir\n",
    "                    ccircle = 0\n",
    "\n",
    "                angle = 2*M_PI*ccircle/Ncir\n",
    "\n",
    "                x0 = rep_range*circle*np.cos(angle) + sigma_space*rand1[i]\n",
    "                x1 = rep_range*circle*np.sin(angle) + sigma_space*rand2[i]\n",
    "\n",
    "                out_pos.append([x0, x1])\n",
    "                ccircle += 1\n",
    "                \n",
    "    return out_pos\n",
    "            "
   ]
  },
  {
   "cell_type": "code",
   "execution_count": null,
   "id": "d94bf68b-8abf-4169-b6fb-4fdbd74ecb2e",
   "metadata": {},
   "outputs": [],
   "source": [
    "s = np.random.uniform(-1,0,1000)"
   ]
  }
 ],
 "metadata": {
  "kernelspec": {
   "display_name": "Python 3 (ipykernel)",
   "language": "python",
   "name": "python3"
  },
  "language_info": {
   "name": ""
  }
 },
 "nbformat": 4,
 "nbformat_minor": 5
}
