{
 "cells": [
  {
   "cell_type": "code",
   "execution_count": null,
   "id": "bd06ad53-3281-4f15-b7e9-53f268cdc633",
   "metadata": {},
   "outputs": [],
   "source": []
  }
 ],
 "metadata": {
  "kernelspec": {
   "display_name": "Python 3 (ipykernel)",
   "language": "python",
   "name": "python3"
  },
  "language_info": {
   "name": ""
  }
 },
 "nbformat": 4,
 "nbformat_minor": 5
}
