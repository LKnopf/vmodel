{
 "cells": [
  {
   "cell_type": "code",
   "execution_count": null,
   "id": "16810f6e-6ba5-4f6d-9d8c-d7ce63c81306",
   "metadata": {},
   "outputs": [],
   "source": []
  },
  {
   "cell_type": "code",
   "execution_count": null,
   "id": "e39dd055-99b5-496a-8f5d-774dfa24100f",
   "metadata": {},
   "outputs": [],
   "source": [
    "test = 1"
   ]
  }
 ],
 "metadata": {
  "kernelspec": {
   "display_name": "Python 3 (ipykernel)",
   "language": "python",
   "name": "python3"
  },
  "language_info": {
   "name": ""
  }
 },
 "nbformat": 4,
 "nbformat_minor": 5
}
